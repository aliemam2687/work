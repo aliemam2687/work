{
 "cells": [
  {
   "cell_type": "code",
   "execution_count": 20,
   "metadata": {},
   "outputs": [
    {
     "name": "stdout",
     "output_type": "stream",
     "text": [
      "enter the word you want to search   strt\n",
      "did you mean start instead\n",
      "press y for yes or n for noy\n",
      "The beginning of an activity or event.\n",
      "To begin an activity.\n",
      "To take the first step or steps in carrying out an action.\n",
      "To have a beginning, in a temporal, spatial, or evaluative sense.\n",
      "To set in motion, cause to start.\n",
      "To initiate the engine of a vehicle.\n"
     ]
    }
   ],
   "source": [
    "import json\n",
    "data=json.load(open(\"data.json\"))\n",
    "from difflib import get_close_matches\n",
    "\n",
    "def translate(word):\n",
    "    word=word.lower()\n",
    "    if word in data:\n",
    "        return data[word]\n",
    "    elif word.title() in data:\n",
    "        return data[word.title()]\n",
    "    elif word.upper() in data:\n",
    "        return data[word.upper()]\n",
    "    elif len(get_close_matches(word,data.keys()))>0:\n",
    "        print(\"did you mean %s instead\"%get_close_matches(word,data.keys())[0])\n",
    "        decide=input(\"press y for yes or n for no\")\n",
    "        if decide == \"y\":\n",
    "            return data[get_close_matches(word,data.keys())[0]]\n",
    "        elif decide == \"n\":\n",
    "            return (\"you have entered wrong keys\\n plz enter new keys \")\n",
    "        else:\n",
    "            return (\"you have entered wrong inputs \\n plz enter y or n\")\n",
    "        \n",
    "    else:\n",
    "        print(\"you have entered wrong word \\n plz enter new word \")\n",
    "        strt\n",
    "  \n",
    "word=input(\"enter the word you want to search   \")\n",
    "output=translate(word)\n",
    "if type(output)== list:\n",
    "    for item in output:\n",
    "        print(item)\n",
    "else:\n",
    "    print(output)"
   ]
  },
  {
   "cell_type": "code",
   "execution_count": null,
   "metadata": {},
   "outputs": [],
   "source": []
  },
  {
   "cell_type": "code",
   "execution_count": null,
   "metadata": {},
   "outputs": [],
   "source": []
  }
 ],
 "metadata": {
  "kernelspec": {
   "display_name": "Python 3",
   "language": "python",
   "name": "python3"
  },
  "language_info": {
   "codemirror_mode": {
    "name": "ipython",
    "version": 3
   },
   "file_extension": ".py",
   "mimetype": "text/x-python",
   "name": "python",
   "nbconvert_exporter": "python",
   "pygments_lexer": "ipython3",
   "version": "3.7.6"
  }
 },
 "nbformat": 4,
 "nbformat_minor": 4
}
