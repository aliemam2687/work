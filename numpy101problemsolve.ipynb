{
 "cells": [
  {
   "cell_type": "code",
   "execution_count": 2,
   "metadata": {},
   "outputs": [
    {
     "name": "stdout",
     "output_type": "stream",
     "text": [
      "<module 'numpy.version' from 'C:\\\\Users\\\\Sagar\\\\anaconda3\\\\lib\\\\site-packages\\\\numpy\\\\version.py'>\n"
     ]
    }
   ],
   "source": [
    "#1version printing\n",
    "import numpy as np\n",
    "print(np.version)"
   ]
  },
  {
   "cell_type": "code",
   "execution_count": 10,
   "metadata": {},
   "outputs": [
    {
     "name": "stdout",
     "output_type": "stream",
     "text": [
      "[1 2 3 4 5 6 7 8 9]\n"
     ]
    },
    {
     "data": {
      "text/plain": [
       "array([0, 1, 2, 3, 4, 5, 6, 7, 8, 9])"
      ]
     },
     "execution_count": 10,
     "metadata": {},
     "output_type": "execute_result"
    }
   ],
   "source": [
    "#2 printing array\n",
    "import numpy as np\n",
    "a=np.array([1,2,3,4,5,6,7,8,9])\n",
    "print(a)\n",
    "arr=np.arange(10)\n",
    "arr"
   ]
  },
  {
   "cell_type": "code",
   "execution_count": 16,
   "metadata": {},
   "outputs": [
    {
     "data": {
      "text/plain": [
       "array([[ True,  True,  True],\n",
       "       [ True,  True,  True],\n",
       "       [ True,  True,  True]])"
      ]
     },
     "execution_count": 16,
     "metadata": {},
     "output_type": "execute_result"
    }
   ],
   "source": [
    "#3 printing array \n",
    "import numpy as np\n",
    "np.ones((3,3),dtype=np.bool)"
   ]
  },
  {
   "cell_type": "code",
   "execution_count": 18,
   "metadata": {},
   "outputs": [
    {
     "data": {
      "text/plain": [
       "array([1, 3, 5, 7, 9])"
      ]
     },
     "execution_count": 18,
     "metadata": {},
     "output_type": "execute_result"
    }
   ],
   "source": [
    "#4 odd number\n",
    "import numpy as np\n",
    "arr1=np.array([1,2,3,4,5,6,7,8,9])\n",
    "arr1[arr1%2==0]\n",
    "arr1[arr1%2!=0]"
   ]
  },
  {
   "cell_type": "code",
   "execution_count": 23,
   "metadata": {},
   "outputs": [
    {
     "name": "stdout",
     "output_type": "stream",
     "text": [
      "[-1  2 -1  4 -1  6 -1  8 -1]\n"
     ]
    },
    {
     "data": {
      "text/plain": [
       "array([ 1, -1,  3, -1,  5, -1,  7, -1,  9])"
      ]
     },
     "execution_count": 23,
     "metadata": {},
     "output_type": "execute_result"
    }
   ],
   "source": [
    "#5 -1 in several positin\n",
    "import numpy as np\n",
    "arr2=np.array([1,2,3,4,5,6,7,8,9])\n",
    "arr2[arr2%2!=0]=-1\n",
    "print(arr2)\n",
    "arr3=np.array([1,2,3,4,5,6,7,8,9])\n",
    "arr3[arr3%2==0]=-1\n",
    "arr3"
   ]
  },
  {
   "cell_type": "code",
   "execution_count": null,
   "metadata": {},
   "outputs": [],
   "source": [
    "#6"
   ]
  },
  {
   "cell_type": "code",
   "execution_count": 29,
   "metadata": {},
   "outputs": [
    {
     "data": {
      "text/plain": [
       "array([[ 0,  1,  2,  3,  4,  5,  6,  7,  8,  9],\n",
       "       [10, 11, 12, 13, 14, 15, 16, 17, 18, 19],\n",
       "       [20, 21, 22, 23, 24, 25, 26, 27, 28, 29],\n",
       "       [30, 31, 32, 33, 34, 35, 36, 37, 38, 39],\n",
       "       [40, 41, 42, 43, 44, 45, 46, 47, 48, 49]])"
      ]
     },
     "execution_count": 29,
     "metadata": {},
     "output_type": "execute_result"
    }
   ],
   "source": [
    "#7\n",
    "import numpy as np\n",
    "arr=np.arange(50).reshape(5,10)\n",
    "arr\n"
   ]
  },
  {
   "cell_type": "code",
   "execution_count": 35,
   "metadata": {},
   "outputs": [
    {
     "name": "stdout",
     "output_type": "stream",
     "text": [
      "[[0 1 2 3 4]\n",
      " [5 6 7 8 9]]\n",
      "[[1 1 1 1 1]\n",
      " [1 1 1 1 1]]\n"
     ]
    },
    {
     "data": {
      "text/plain": [
       "array([[0, 1, 2, 3, 4],\n",
       "       [5, 6, 7, 8, 9],\n",
       "       [1, 1, 1, 1, 1],\n",
       "       [1, 1, 1, 1, 1]])"
      ]
     },
     "execution_count": 35,
     "metadata": {},
     "output_type": "execute_result"
    }
   ],
   "source": [
    "#8 reshape and arange\n",
    "import numpy as np\n",
    "a = np.arange(10).reshape(2,-1)\n",
    "print(a)\n",
    "b = np.repeat(1, 10).reshape(2,-1)\n",
    "print(b)\n",
    "np.vstack((a,b))"
   ]
  },
  {
   "cell_type": "code",
   "execution_count": 36,
   "metadata": {},
   "outputs": [
    {
     "name": "stdout",
     "output_type": "stream",
     "text": [
      "[[0 1 2 3 4]\n",
      " [5 6 7 8 9]]\n",
      "[[1 1 1 1 1]\n",
      " [1 1 1 1 1]]\n"
     ]
    },
    {
     "data": {
      "text/plain": [
       "array([[0, 1, 2, 3, 4, 1, 1, 1, 1, 1],\n",
       "       [5, 6, 7, 8, 9, 1, 1, 1, 1, 1]])"
      ]
     },
     "execution_count": 36,
     "metadata": {},
     "output_type": "execute_result"
    }
   ],
   "source": [
    "#9\n",
    "import numpy as np\n",
    "a = np.arange(10).reshape(2,-1)\n",
    "print(a)\n",
    "b = np.repeat(1, 10).reshape(2,-1)\n",
    "print(b)\n",
    "np.hstack((a,b))"
   ]
  },
  {
   "cell_type": "code",
   "execution_count": 3,
   "metadata": {},
   "outputs": [
    {
     "name": "stdout",
     "output_type": "stream",
     "text": [
      "[1 2 3]\n",
      "[1 1 1 2 2 2 3 3 3 1 2 3 1 2 3 1 2 3]\n"
     ]
    }
   ],
   "source": [
    "#10 and 11 intersect and generate custom sequence\n",
    "import numpy as np\n",
    "a=[1,2,3]\n",
    "b=np.repeat(a,3)\n",
    "c=np.tile(a,3)\n",
    "r=np.concatenate((b,c))\n",
    "e=np.intersect1d(b,c)\n",
    "print(e)\n",
    "print(r)"
   ]
  },
  {
   "cell_type": "code",
   "execution_count": 6,
   "metadata": {},
   "outputs": [
    {
     "name": "stdout",
     "output_type": "stream",
     "text": [
      "[4 5 6 7 8 9]\n"
     ]
    }
   ],
   "source": [
    "#12 remove items which in another array\n",
    "import numpy as np\n",
    "a=[1,2,3]\n",
    "b=np.array([1,2,3,4,5,6,7,8,9])\n",
    "c=np.tile(a,3)\n",
    "r=np.setdiff1d(b,c)\n",
    "print(r)"
   ]
  },
  {
   "cell_type": "code",
   "execution_count": 7,
   "metadata": {},
   "outputs": [
    {
     "name": "stdout",
     "output_type": "stream",
     "text": [
      "(array([3, 6], dtype=int64),)\n"
     ]
    }
   ],
   "source": [
    "#13 getting positions where array match\n",
    "import numpy\n",
    "\n",
    "a = numpy.array([0, 1, 2, 3, 4, 5, 6])\n",
    "b = numpy.array([6, 5, 4, 3, 2, 1, 6])\n",
    "r=numpy.where(a==b)\n",
    "print(r)"
   ]
  },
  {
   "cell_type": "code",
   "execution_count": 17,
   "metadata": {},
   "outputs": [
    {
     "name": "stdout",
     "output_type": "stream",
     "text": [
      "[6 7 8]\n",
      "(array([5, 6], dtype=int64),)\n"
     ]
    }
   ],
   "source": [
    "#14 extracting all number in a range\n",
    "import numpy as np\n",
    "a=np.array([1,2,3,4,5,6,7,8,9])\n",
    "b=np.where((a>5) & (a<8))\n",
    "c=a[(a>5)&(a<9)]\n",
    "print(c)\n",
    "print(b)\n"
   ]
  },
  {
   "cell_type": "code",
   "execution_count": 18,
   "metadata": {},
   "outputs": [
    {
     "data": {
      "text/plain": [
       "1"
      ]
     },
     "execution_count": 18,
     "metadata": {},
     "output_type": "execute_result"
    }
   ],
   "source": [
    "int(True)"
   ]
  },
  {
   "cell_type": "code",
   "execution_count": 2,
   "metadata": {},
   "outputs": [
    {
     "data": {
      "text/plain": [
       "array([6., 7., 9., 8., 9., 7., 5.])"
      ]
     },
     "execution_count": 2,
     "metadata": {},
     "output_type": "execute_result"
    }
   ],
   "source": [
    "#15\n",
    "import numpy as np\n",
    "def maxx(x, y):\n",
    "    \"\"\"Get the maximum of two items\"\"\"\n",
    "    if x >= y:\n",
    "        return x\n",
    "    else:\n",
    "        return y\n",
    "\n",
    "pair_max = np.vectorize(maxx, otypes=[float])\n",
    "\n",
    "a = np.array([5, 7, 9, 8, 6, 4, 5])\n",
    "b = np.array([6, 3, 4, 8, 9, 7, 1])\n",
    "\n",
    "pair_max(a, b)\n"
   ]
  },
  {
   "cell_type": "code",
   "execution_count": 3,
   "metadata": {},
   "outputs": [
    {
     "name": "stdout",
     "output_type": "stream",
     "text": [
      "Requirement already satisfied: scipy in c:\\users\\sagar\\anaconda3\\lib\\site-packages (1.4.1)\n",
      "Requirement already satisfied: numpy>=1.13.3 in c:\\users\\sagar\\anaconda3\\lib\\site-packages (from scipy) (1.18.1)\n",
      "Note: you may need to restart the kernel to use updated packages.\n"
     ]
    }
   ],
   "source": [
    "pip install scipy\n"
   ]
  },
  {
   "cell_type": "code",
   "execution_count": 1,
   "metadata": {},
   "outputs": [
    {
     "ename": "NameError",
     "evalue": "name 'np' is not defined",
     "output_type": "error",
     "traceback": [
      "\u001b[1;31m---------------------------------------------------------------------------\u001b[0m",
      "\u001b[1;31mNameError\u001b[0m                                 Traceback (most recent call last)",
      "\u001b[1;32m<ipython-input-1-ce3b905f0eb0>\u001b[0m in \u001b[0;36m<module>\u001b[1;34m\u001b[0m\n\u001b[1;32m----> 1\u001b[1;33m \u001b[0mhelp\u001b[0m\u001b[1;33m(\u001b[0m\u001b[0mnp\u001b[0m\u001b[1;33m.\u001b[0m\u001b[0marray\u001b[0m\u001b[1;33m)\u001b[0m\u001b[1;33m\u001b[0m\u001b[1;33m\u001b[0m\u001b[0m\n\u001b[0m",
      "\u001b[1;31mNameError\u001b[0m: name 'np' is not defined"
     ]
    }
   ],
   "source": [
    "help(np.array)"
   ]
  },
  {
   "cell_type": "code",
   "execution_count": 2,
   "metadata": {},
   "outputs": [
    {
     "name": "stdout",
     "output_type": "stream",
     "text": [
      "Help on built-in function array in module numpy:\n",
      "\n",
      "array(...)\n",
      "    array(object, dtype=None, copy=True, order='K', subok=False, ndmin=0)\n",
      "    \n",
      "    Create an array.\n",
      "    \n",
      "    Parameters\n",
      "    ----------\n",
      "    object : array_like\n",
      "        An array, any object exposing the array interface, an object whose\n",
      "        __array__ method returns an array, or any (nested) sequence.\n",
      "    dtype : data-type, optional\n",
      "        The desired data-type for the array.  If not given, then the type will\n",
      "        be determined as the minimum type required to hold the objects in the\n",
      "        sequence.\n",
      "    copy : bool, optional\n",
      "        If true (default), then the object is copied.  Otherwise, a copy will\n",
      "        only be made if __array__ returns a copy, if obj is a nested sequence,\n",
      "        or if a copy is needed to satisfy any of the other requirements\n",
      "        (`dtype`, `order`, etc.).\n",
      "    order : {'K', 'A', 'C', 'F'}, optional\n",
      "        Specify the memory layout of the array. If object is not an array, the\n",
      "        newly created array will be in C order (row major) unless 'F' is\n",
      "        specified, in which case it will be in Fortran order (column major).\n",
      "        If object is an array the following holds.\n",
      "    \n",
      "        ===== ========= ===================================================\n",
      "        order  no copy                     copy=True\n",
      "        ===== ========= ===================================================\n",
      "        'K'   unchanged F & C order preserved, otherwise most similar order\n",
      "        'A'   unchanged F order if input is F and not C, otherwise C order\n",
      "        'C'   C order   C order\n",
      "        'F'   F order   F order\n",
      "        ===== ========= ===================================================\n",
      "    \n",
      "        When ``copy=False`` and a copy is made for other reasons, the result is\n",
      "        the same as if ``copy=True``, with some exceptions for `A`, see the\n",
      "        Notes section. The default order is 'K'.\n",
      "    subok : bool, optional\n",
      "        If True, then sub-classes will be passed-through, otherwise\n",
      "        the returned array will be forced to be a base-class array (default).\n",
      "    ndmin : int, optional\n",
      "        Specifies the minimum number of dimensions that the resulting\n",
      "        array should have.  Ones will be pre-pended to the shape as\n",
      "        needed to meet this requirement.\n",
      "    \n",
      "    Returns\n",
      "    -------\n",
      "    out : ndarray\n",
      "        An array object satisfying the specified requirements.\n",
      "    \n",
      "    See Also\n",
      "    --------\n",
      "    empty_like : Return an empty array with shape and type of input.\n",
      "    ones_like : Return an array of ones with shape and type of input.\n",
      "    zeros_like : Return an array of zeros with shape and type of input.\n",
      "    full_like : Return a new array with shape of input filled with value.\n",
      "    empty : Return a new uninitialized array.\n",
      "    ones : Return a new array setting values to one.\n",
      "    zeros : Return a new array setting values to zero.\n",
      "    full : Return a new array of given shape filled with value.\n",
      "    \n",
      "    \n",
      "    Notes\n",
      "    -----\n",
      "    When order is 'A' and `object` is an array in neither 'C' nor 'F' order,\n",
      "    and a copy is forced by a change in dtype, then the order of the result is\n",
      "    not necessarily 'C' as expected. This is likely a bug.\n",
      "    \n",
      "    Examples\n",
      "    --------\n",
      "    >>> np.array([1, 2, 3])\n",
      "    array([1, 2, 3])\n",
      "    \n",
      "    Upcasting:\n",
      "    \n",
      "    >>> np.array([1, 2, 3.0])\n",
      "    array([ 1.,  2.,  3.])\n",
      "    \n",
      "    More than one dimension:\n",
      "    \n",
      "    >>> np.array([[1, 2], [3, 4]])\n",
      "    array([[1, 2],\n",
      "           [3, 4]])\n",
      "    \n",
      "    Minimum dimensions 2:\n",
      "    \n",
      "    >>> np.array([1, 2, 3], ndmin=2)\n",
      "    array([[1, 2, 3]])\n",
      "    \n",
      "    Type provided:\n",
      "    \n",
      "    >>> np.array([1, 2, 3], dtype=complex)\n",
      "    array([ 1.+0.j,  2.+0.j,  3.+0.j])\n",
      "    \n",
      "    Data-type consisting of more than one element:\n",
      "    \n",
      "    >>> x = np.array([(1,2),(3,4)],dtype=[('a','<i4'),('b','<i4')])\n",
      "    >>> x['a']\n",
      "    array([1, 3])\n",
      "    \n",
      "    Creating an array from sub-classes:\n",
      "    \n",
      "    >>> np.array(np.mat('1 2; 3 4'))\n",
      "    array([[1, 2],\n",
      "           [3, 4]])\n",
      "    \n",
      "    >>> np.array(np.mat('1 2; 3 4'), subok=True)\n",
      "    matrix([[1, 2],\n",
      "            [3, 4]])\n",
      "\n"
     ]
    }
   ],
   "source": [
    "import numpy as np\n",
    "help(np.array)"
   ]
  },
  {
   "cell_type": "code",
   "execution_count": 3,
   "metadata": {},
   "outputs": [
    {
     "ename": "SyntaxError",
     "evalue": "invalid syntax (<ipython-input-3-4f643ec26704>, line 1)",
     "output_type": "error",
     "traceback": [
      "\u001b[1;36m  File \u001b[1;32m\"<ipython-input-3-4f643ec26704>\"\u001b[1;36m, line \u001b[1;32m1\u001b[0m\n\u001b[1;33m    pip3 install jupyter-tabnine\u001b[0m\n\u001b[1;37m               ^\u001b[0m\n\u001b[1;31mSyntaxError\u001b[0m\u001b[1;31m:\u001b[0m invalid syntax\n"
     ]
    }
   ],
   "source": [
    "pip3 install jupyter-tabnine\n",
    "jupyter nbextension install --py jupyter_tabnine\n",
    "jupyter nbextension enable --py jupyter_tabnine\n",
    "jupyter serverextension enable --py jupyter_tabnine\n"
   ]
  },
  {
   "cell_type": "code",
   "execution_count": 4,
   "metadata": {},
   "outputs": [
    {
     "ename": "NameError",
     "evalue": "name 'hinterland' is not defined",
     "output_type": "error",
     "traceback": [
      "\u001b[1;31m---------------------------------------------------------------------------\u001b[0m",
      "\u001b[1;31mNameError\u001b[0m                                 Traceback (most recent call last)",
      "\u001b[1;32m<ipython-input-4-c907d2b793f3>\u001b[0m in \u001b[0;36m<module>\u001b[1;34m\u001b[0m\n\u001b[1;32m----> 1\u001b[1;33m \u001b[0mhinterland\u001b[0m\u001b[1;33m.\u001b[0m\u001b[0mhint_delay\u001b[0m\u001b[1;33m\u001b[0m\u001b[1;33m\u001b[0m\u001b[0m\n\u001b[0m",
      "\u001b[1;31mNameError\u001b[0m: name 'hinterland' is not defined"
     ]
    }
   ],
   "source": [
    "hinterland.hint_delay"
   ]
  },
  {
   "cell_type": "code",
   "execution_count": 5,
   "metadata": {},
   "outputs": [],
   "source": [
    "%config IPCompleter.greedy=True"
   ]
  },
  {
   "cell_type": "code",
   "execution_count": 6,
   "metadata": {},
   "outputs": [
    {
     "name": "stdout",
     "output_type": "stream",
     "text": [
      "Collecting package metadata (current_repodata.json): ...working... done\n",
      "Solving environment: ...working... done\n",
      "\n",
      "## Package Plan ##\n",
      "\n",
      "  environment location: C:\\Users\\Sagar\\anaconda3\n",
      "\n",
      "  added / updated specs:\n",
      "    - jupyter_nbextensions_configurator\n",
      "\n",
      "\n",
      "The following packages will be downloaded:\n",
      "\n",
      "    package                    |            build\n",
      "    ---------------------------|-----------------\n",
      "    conda-4.8.3                |   py37hc8dfbb8_1         3.1 MB  conda-forge\n",
      "    jupyter_contrib_core-0.3.3 |             py_2          15 KB  conda-forge\n",
      "    jupyter_nbextensions_configurator-0.4.1|           py37_0         487 KB  conda-forge\n",
      "    python_abi-3.7             |          1_cp37m           4 KB  conda-forge\n",
      "    ------------------------------------------------------------\n",
      "                                           Total:         3.6 MB\n",
      "\n",
      "The following NEW packages will be INSTALLED:\n",
      "\n",
      "  jupyter_contrib_c~ conda-forge/noarch::jupyter_contrib_core-0.3.3-py_2\n",
      "  jupyter_nbextensi~ conda-forge/win-64::jupyter_nbextensions_configurator-0.4.1-py37_0\n",
      "  python_abi         conda-forge/win-64::python_abi-3.7-1_cp37m\n",
      "\n",
      "The following packages will be UPDATED:\n",
      "\n",
      "  conda                       pkgs/main::conda-4.8.2-py37_0 --> conda-forge::conda-4.8.3-py37hc8dfbb8_1\n",
      "\n",
      "\n",
      "\n",
      "Downloading and Extracting Packages\n",
      "\n",
      "jupyter_nbextensions | 487 KB    |            |   0% \n",
      "jupyter_nbextensions | 487 KB    | 3          |   3% \n",
      "jupyter_nbextensions | 487 KB    | ##9        |  30% \n",
      "jupyter_nbextensions | 487 KB    | ###9       |  39% \n",
      "jupyter_nbextensions | 487 KB    | #####9     |  59% \n",
      "jupyter_nbextensions | 487 KB    | ######8    |  69% \n",
      "jupyter_nbextensions | 487 KB    | #######5   |  76% \n",
      "jupyter_nbextensions | 487 KB    | ########5  |  85% \n",
      "jupyter_nbextensions | 487 KB    | #########8 |  99% \n",
      "jupyter_nbextensions | 487 KB    | ########## | 100% \n",
      "\n",
      "python_abi-3.7       | 4 KB      |            |   0% \n",
      "python_abi-3.7       | 4 KB      | ########## | 100% \n",
      "\n",
      "jupyter_contrib_core | 15 KB     |            |   0% \n",
      "jupyter_contrib_core | 15 KB     | ########## | 100% \n",
      "\n",
      "conda-4.8.3          | 3.1 MB    |            |   0% \n",
      "conda-4.8.3          | 3.1 MB    |            |   1% \n",
      "conda-4.8.3          | 3.1 MB    | 2          |   3% \n",
      "conda-4.8.3          | 3.1 MB    | 3          |   4% \n",
      "conda-4.8.3          | 3.1 MB    | 5          |   5% \n",
      "conda-4.8.3          | 3.1 MB    | 6          |   7% \n",
      "conda-4.8.3          | 3.1 MB    | 9          |   9% \n",
      "conda-4.8.3          | 3.1 MB    | #          |  10% \n",
      "conda-4.8.3          | 3.1 MB    | #1         |  12% \n",
      "conda-4.8.3          | 3.1 MB    | #3         |  13% \n",
      "conda-4.8.3          | 3.1 MB    | #7         |  17% \n",
      "conda-4.8.3          | 3.1 MB    | #8         |  19% \n",
      "conda-4.8.3          | 3.1 MB    | ##         |  20% \n",
      "conda-4.8.3          | 3.1 MB    | ##1        |  21% \n",
      "conda-4.8.3          | 3.1 MB    | ##2        |  22% \n",
      "conda-4.8.3          | 3.1 MB    | ##3        |  23% \n",
      "conda-4.8.3          | 3.1 MB    | ##4        |  24% \n",
      "conda-4.8.3          | 3.1 MB    | ##5        |  25% \n",
      "conda-4.8.3          | 3.1 MB    | ##6        |  26% \n",
      "conda-4.8.3          | 3.1 MB    | ##7        |  27% \n",
      "conda-4.8.3          | 3.1 MB    | ##8        |  28% \n",
      "conda-4.8.3          | 3.1 MB    | ###        |  30% \n",
      "conda-4.8.3          | 3.1 MB    | ###1       |  31% \n",
      "conda-4.8.3          | 3.1 MB    | ###2       |  33% \n",
      "conda-4.8.3          | 3.1 MB    | ###3       |  34% \n",
      "conda-4.8.3          | 3.1 MB    | ###4       |  35% \n",
      "conda-4.8.3          | 3.1 MB    | ###5       |  36% \n",
      "conda-4.8.3          | 3.1 MB    | ###7       |  37% \n",
      "conda-4.8.3          | 3.1 MB    | ###8       |  38% \n",
      "conda-4.8.3          | 3.1 MB    | ###9       |  39% \n",
      "conda-4.8.3          | 3.1 MB    | ####       |  40% \n",
      "conda-4.8.3          | 3.1 MB    | ####1      |  41% \n",
      "conda-4.8.3          | 3.1 MB    | ####2      |  42% \n",
      "conda-4.8.3          | 3.1 MB    | ####3      |  43% \n",
      "conda-4.8.3          | 3.1 MB    | ####4      |  44% \n",
      "conda-4.8.3          | 3.1 MB    | ####5      |  45% \n",
      "conda-4.8.3          | 3.1 MB    | ####6      |  46% \n",
      "conda-4.8.3          | 3.1 MB    | ####7      |  47% \n",
      "conda-4.8.3          | 3.1 MB    | ####8      |  48% \n",
      "conda-4.8.3          | 3.1 MB    | ####9      |  49% \n",
      "conda-4.8.3          | 3.1 MB    | #####      |  50% \n",
      "conda-4.8.3          | 3.1 MB    | #####1     |  52% \n",
      "conda-4.8.3          | 3.1 MB    | #####2     |  53% \n",
      "conda-4.8.3          | 3.1 MB    | #####3     |  54% \n",
      "conda-4.8.3          | 3.1 MB    | #####4     |  55% \n",
      "conda-4.8.3          | 3.1 MB    | #####5     |  56% \n",
      "conda-4.8.3          | 3.1 MB    | #####6     |  57% \n",
      "conda-4.8.3          | 3.1 MB    | #####7     |  58% \n",
      "conda-4.8.3          | 3.1 MB    | #####8     |  59% \n",
      "conda-4.8.3          | 3.1 MB    | ######     |  60% \n",
      "conda-4.8.3          | 3.1 MB    | ######1    |  61% \n",
      "conda-4.8.3          | 3.1 MB    | ######2    |  62% \n",
      "conda-4.8.3          | 3.1 MB    | ######3    |  63% \n",
      "conda-4.8.3          | 3.1 MB    | ######4    |  64% \n",
      "conda-4.8.3          | 3.1 MB    | ######5    |  65% \n",
      "conda-4.8.3          | 3.1 MB    | ######6    |  66% \n",
      "conda-4.8.3          | 3.1 MB    | ######7    |  67% \n",
      "conda-4.8.3          | 3.1 MB    | ######8    |  68% \n",
      "conda-4.8.3          | 3.1 MB    | ######9    |  69% \n",
      "conda-4.8.3          | 3.1 MB    | #######    |  70% \n",
      "conda-4.8.3          | 3.1 MB    | #######1   |  71% \n",
      "conda-4.8.3          | 3.1 MB    | #######2   |  72% \n",
      "conda-4.8.3          | 3.1 MB    | #######3   |  73% \n",
      "conda-4.8.3          | 3.1 MB    | #######4   |  74% \n",
      "conda-4.8.3          | 3.1 MB    | #######5   |  75% \n",
      "conda-4.8.3          | 3.1 MB    | #######6   |  76% \n",
      "conda-4.8.3          | 3.1 MB    | #######7   |  77% \n",
      "conda-4.8.3          | 3.1 MB    | #######8   |  78% \n",
      "conda-4.8.3          | 3.1 MB    | #######9   |  79% \n",
      "conda-4.8.3          | 3.1 MB    | ########   |  80% \n",
      "conda-4.8.3          | 3.1 MB    | ########1  |  81% \n",
      "conda-4.8.3          | 3.1 MB    | ########2  |  82% \n",
      "conda-4.8.3          | 3.1 MB    | ########3  |  84% \n",
      "conda-4.8.3          | 3.1 MB    | ########4  |  85% \n",
      "conda-4.8.3          | 3.1 MB    | ########5  |  86% \n",
      "conda-4.8.3          | 3.1 MB    | ########6  |  87% \n",
      "conda-4.8.3          | 3.1 MB    | ########8  |  88% \n",
      "conda-4.8.3          | 3.1 MB    | #########  |  90% \n",
      "conda-4.8.3          | 3.1 MB    | #########1 |  91% \n",
      "conda-4.8.3          | 3.1 MB    | #########2 |  92% \n",
      "conda-4.8.3          | 3.1 MB    | #########3 |  93% \n",
      "conda-4.8.3          | 3.1 MB    | #########4 |  94% \n",
      "conda-4.8.3          | 3.1 MB    | #########5 |  95% \n",
      "conda-4.8.3          | 3.1 MB    | #########6 |  96% \n",
      "conda-4.8.3          | 3.1 MB    | #########7 |  97% \n",
      "conda-4.8.3          | 3.1 MB    | #########8 |  98% \n",
      "conda-4.8.3          | 3.1 MB    | #########9 |  99% \n",
      "conda-4.8.3          | 3.1 MB    | ########## | 100% \n",
      "Preparing transaction: ...working... done\n",
      "Verifying transaction: ...working... done\n",
      "Executing transaction: ...working... b'Enabling: jupyter_nbextensions_configurator\\n- Writing config: C:\\\\Users\\\\Sagar\\\\anaconda3\\\\etc\\\\jupyter\\n    - Validating...\\n      jupyter_nbextensions_configurator 0.4.1 ok\\nEnabling notebook nbextension nbextensions_configurator/config_menu/main...\\nEnabling tree nbextension nbextensions_configurator/tree_tab/main...\\n'\n",
      "done\n"
     ]
    },
    {
     "name": "stderr",
     "output_type": "stream",
     "text": [
      "\n",
      "\n",
      "==> WARNING: A newer version of conda exists. <==\n",
      "  current version: 4.8.2\n",
      "  latest version: 4.8.3\n",
      "\n",
      "Please update conda by running\n",
      "\n",
      "    $ conda update -n base -c defaults conda\n",
      "\n",
      "\n"
     ]
    },
    {
     "name": "stdout",
     "output_type": "stream",
     "text": [
      "\n",
      "Note: you may need to restart the kernel to use updated packages.\n"
     ]
    }
   ],
   "source": [
    "conda install -c conda-forge jupyter_nbextensions_configurator"
   ]
  },
  {
   "cell_type": "code",
   "execution_count": 7,
   "metadata": {},
   "outputs": [
    {
     "ename": "SyntaxError",
     "evalue": "invalid syntax (<ipython-input-7-220a3d076571>, line 1)",
     "output_type": "error",
     "traceback": [
      "\u001b[1;36m  File \u001b[1;32m\"<ipython-input-7-220a3d076571>\"\u001b[1;36m, line \u001b[1;32m1\u001b[0m\n\u001b[1;33m    jupyter nbextension enable hinterland/hinterland\u001b[0m\n\u001b[1;37m                      ^\u001b[0m\n\u001b[1;31mSyntaxError\u001b[0m\u001b[1;31m:\u001b[0m invalid syntax\n"
     ]
    }
   ],
   "source": [
    "jupyter nbextension enable hinterland/hinterland"
   ]
  },
  {
   "cell_type": "code",
   "execution_count": 8,
   "metadata": {},
   "outputs": [
    {
     "ename": "SyntaxError",
     "evalue": "invalid syntax (<ipython-input-8-1c0e089b301b>, line 1)",
     "output_type": "error",
     "traceback": [
      "\u001b[1;36m  File \u001b[1;32m\"<ipython-input-8-1c0e089b301b>\"\u001b[1;36m, line \u001b[1;32m1\u001b[0m\n\u001b[1;33m    jupyter contrib nbextension install --user\u001b[0m\n\u001b[1;37m                  ^\u001b[0m\n\u001b[1;31mSyntaxError\u001b[0m\u001b[1;31m:\u001b[0m invalid syntax\n"
     ]
    }
   ],
   "source": [
    "jupyter contrib nbextension install --user"
   ]
  },
  {
   "cell_type": "code",
   "execution_count": 10,
   "metadata": {},
   "outputs": [
    {
     "ename": "SyntaxError",
     "evalue": "invalid syntax (<ipython-input-10-515d1fc579a3>, line 1)",
     "output_type": "error",
     "traceback": [
      "\u001b[1;36m  File \u001b[1;32m\"<ipython-input-10-515d1fc579a3>\"\u001b[1;36m, line \u001b[1;32m1\u001b[0m\n\u001b[1;33m    enable hinterland/hinterland\u001b[0m\n\u001b[1;37m                    ^\u001b[0m\n\u001b[1;31mSyntaxError\u001b[0m\u001b[1;31m:\u001b[0m invalid syntax\n"
     ]
    }
   ],
   "source": [
    " enable hinterland/hinterland"
   ]
  },
  {
   "cell_type": "code",
   "execution_count": 1,
   "metadata": {},
   "outputs": [
    {
     "ename": "SyntaxError",
     "evalue": "invalid syntax (<ipython-input-1-220a3d076571>, line 1)",
     "output_type": "error",
     "traceback": [
      "\u001b[1;36m  File \u001b[1;32m\"<ipython-input-1-220a3d076571>\"\u001b[1;36m, line \u001b[1;32m1\u001b[0m\n\u001b[1;33m    jupyter nbextension enable hinterland/hinterland\u001b[0m\n\u001b[1;37m                      ^\u001b[0m\n\u001b[1;31mSyntaxError\u001b[0m\u001b[1;31m:\u001b[0m invalid syntax\n"
     ]
    }
   ],
   "source": [
    "jupyter nbextension enable hinterland/hinterland"
   ]
  },
  {
   "cell_type": "code",
   "execution_count": null,
   "metadata": {},
   "outputs": [],
   "source": [
    "import numpy as np\n",
    "np.array(int())"
   ]
  }
 ],
 "metadata": {
  "kernelspec": {
   "display_name": "Python 3",
   "language": "python",
   "name": "python3"
  },
  "language_info": {
   "codemirror_mode": {
    "name": "ipython",
    "version": 3
   },
   "file_extension": ".py",
   "mimetype": "text/x-python",
   "name": "python",
   "nbconvert_exporter": "python",
   "pygments_lexer": "ipython3",
   "version": "3.7.6"
  }
 },
 "nbformat": 4,
 "nbformat_minor": 4
}
